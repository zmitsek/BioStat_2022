{
  "nbformat": 4,
  "nbformat_minor": 0,
  "metadata": {
    "colab": {
      "provenance": [],
      "collapsed_sections": [],
      "include_colab_link": true
    },
    "kernelspec": {
      "name": "python3",
      "display_name": "Python 3"
    },
    "language_info": {
      "name": "python"
    }
  },
  "cells": [
    {
      "cell_type": "markdown",
      "metadata": {
        "id": "view-in-github",
        "colab_type": "text"
      },
      "source": [
        "<a href=\"https://colab.research.google.com/github/zmitsek/BioStat_2022/blob/hw6/hw6/homework_6.ipynb\" target=\"_parent\"><img src=\"https://colab.research.google.com/assets/colab-badge.svg\" alt=\"Open In Colab\"/></a>"
      ]
    },
    {
      "cell_type": "code",
      "execution_count": 24,
      "metadata": {
        "id": "OLE-TC4eN1HP"
      },
      "outputs": [],
      "source": [
        "import scipy.stats as st\n",
        "import pandas as pd\n",
        "import numpy as np\n",
        "from statsmodels.stats.multitest import multipletests"
      ]
    },
    {
      "cell_type": "code",
      "source": [
        "print('Введите путь до таблицы с данными, включая название этой таблицы с форматом(все данные в таблице должны быть одного(числового) типа!)')\n",
        "first_table = pd.read_csv(f\"{input()}\", index_col=0)\n",
        "\n",
        "print('А теперь путь до второй таблицы, требования те же ')\n",
        "second_table = pd.read_csv(f\"{input()}\", index_col=0)\n",
        "\n",
        "print('Напишите, какой метод для коррекции на множественные сравнения будем использовать')\n",
        "method_inp = input()\n",
        "\n",
        "ci_test_results = []\n",
        "p_values_t_test = st.ttest_ind(first_table, second_table).pvalue\n",
        "mean_diff = []\n",
        "adjusted_p_values = multipletests(p_values_t_test, method=method_inp)[1]\n",
        "outcome = []\n",
        "for i in range(first_table.shape[1]):       \n",
        "  ci_f = st.t.interval(alpha=0.95,                           #считаем доверительные интервалы в 1 клеточном типе\n",
        "                       df=len(first_table.iloc[:,i]) - 1,\n",
        "                       loc=np.mean(first_table.iloc[:,i]),\n",
        "                       scale=st.sem(first_table.iloc[:,i]))\n",
        "  ci_sec = st.t.interval(alpha=0.95,                         # считаем доверительные интервалы во 2 клеточном типе\n",
        "                        df=len(second_table.iloc[:,i]) - 1, \n",
        "                       loc=np.mean(second_table.iloc[:,i]), \n",
        "                       scale=st.sem(second_table.iloc[:,i]))\n",
        "  \n",
        "  if ci_f[1] < ci_sec[0] or ci_sec[1] < ci_f[0]:             # проверяем, пересекаются ли\n",
        "    ci_test_results.append(False)      #  пересечений нет\n",
        "  else:\n",
        "    ci_test_results.append(True)\n",
        "\n",
        "  if adjusted_p_values[i] < 0.05:     \n",
        "    outcome.append(True)\n",
        "  else:\n",
        "    outcome.append(False)\n",
        "\n",
        "  z_test_p_values.append(ztest(first_table.iloc[:,i],second_table.iloc[:,i])[1])    # записываем значение p-value\n",
        "\n",
        "  mean_diff.append(np.mean(first_table.iloc[:,i]) - np.mean(second_table.iloc[:,i]))   # записываем разницу между средними экспрессиями\n",
        "\n",
        "\n",
        "results = {\n",
        "    \"mean_diff\": mean_diff,\n",
        "    \"ci_are_intersects\": ci_test_results,\n",
        "    \"t_test_p_value\": p_values_t_test,\n",
        "    \"adjusted_p_value\": adjusted_p_values,\n",
        "    'outcome_with_correction': outcome\n",
        "}\n",
        "\n",
        "results = pd.DataFrame(results)\n",
        "print('Введите название файла с результатами')\n",
        "results.to_csv(f\"{input()}.csv\") \n"
      ],
      "metadata": {
        "colab": {
          "base_uri": "https://localhost:8080/"
        },
        "outputId": "9cecfb04-e381-46df-8c91-839b20ca602f",
        "id": "NOH6ItXzpCSk"
      },
      "execution_count": 53,
      "outputs": [
        {
          "name": "stdout",
          "output_type": "stream",
          "text": [
            "Введите путь до таблицы с данными, включая название этой таблицы с форматом(все данные в таблице должны быть одного(числового) типа!)\n",
            "/content/b_cells_expression_data.csv\n",
            "А теперь путь до второй таблицы, требования те же \n",
            "/content/nk_cells_expression_data.csv\n",
            "Напишите, какой метод для коррекции на множественные сравнения будем использовать\n",
            "holm-sidak\n",
            "Введите название файла с результатами\n",
            "hsiduck\n"
          ]
        }
      ]
    }
  ]
}